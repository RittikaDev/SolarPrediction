{
  "nbformat": 4,
  "nbformat_minor": 0,
  "metadata": {
    "colab": {
      "provenance": []
    },
    "kernelspec": {
      "name": "python3",
      "display_name": "Python 3"
    },
    "language_info": {
      "name": "python"
    }
  },
  "cells": [
    {
      "cell_type": "code",
      "execution_count": 2,
      "metadata": {
        "id": "V5mI3FfgP5M0"
      },
      "outputs": [],
      "source": [
        "import pandas as pd\n",
        "import numpy as np\n",
        "\n",
        "from sklearn.model_selection import train_test_split\n",
        "from sklearn.pipeline import Pipeline\n",
        "from sklearn.compose import ColumnTransformer\n",
        "from sklearn.preprocessing import StandardScaler, PowerTransformer, OneHotEncoder\n",
        "from sklearn.impute import SimpleImputer\n",
        "from sklearn.ensemble import RandomForestRegressor\n",
        "from sklearn.metrics import mean_absolute_error, mean_squared_error, r2_score"
      ]
    },
    {
      "cell_type": "code",
      "source": [
        "# ----------------- Load Data -----------------\n",
        "df = pd.read_excel(\"Solardata_final_1.xlsx\")\n",
        "df[\"Date and Time\"] = pd.to_datetime(df[\"Date and Time\"])\n",
        "df[\"hour\"] = df[\"Date and Time\"].dt.hour\n",
        "df[\"dayofweek\"] = df[\"Date and Time\"].dt.dayofweek\n",
        "df[\"month\"] = df[\"Date and Time\"].dt.month"
      ],
      "metadata": {
        "id": "nBxKVgmkRItV"
      },
      "execution_count": 3,
      "outputs": []
    },
    {
      "cell_type": "code",
      "source": [
        "target = \"Output Power (kW)\"\n",
        "X = df.drop(columns=[\"SL No.\", \"Date and Time\", target])              # ALL FEATURES EXCEPT IDENTIFIERS AND THE TARGET.\n",
        "y = df[target]                                                        # WHAT WE WANT TO PREDICT"
      ],
      "metadata": {
        "id": "nbcSkAbSRdXW"
      },
      "execution_count": 4,
      "outputs": []
    },
    {
      "cell_type": "code",
      "source": [
        "X_train, X_test, y_train, y_test = train_test_split(X, y, test_size=0.2, random_state=42)"
      ],
      "metadata": {
        "id": "LLImbokzRfll"
      },
      "execution_count": 5,
      "outputs": []
    },
    {
      "cell_type": "code",
      "source": [
        "num_cols = X.select_dtypes(include=[\"number\"]).columns                # NUMERIC FEATURES LIKE GHI, TEMPERATURE, WIND SPEED.\n",
        "cat_cols = X.select_dtypes(include=[\"object\", \"category\"]).columns    # CATEGORICAL FEATURES LIKE \"GRID SIDE OR OTHER FAULT\"."
      ],
      "metadata": {
        "id": "azO3_P7gRhpj"
      },
      "execution_count": 6,
      "outputs": []
    },
    {
      "cell_type": "code",
      "source": [
        "# SimpleImputer(strategy=\"median\") → FILLS MISSING NUMERIC VALUES WITH MEDIAN.\n",
        "# PowerTransformer() → MAKES DATA MORE GAUSSIAN-LIKE, HELPS RANDOMFOREST HANDLE SKEWED DISTRIBUTIONS.\n",
        "# StandardScaler() → SCALES FEATURES TO MEAN=0, STD=1 (HELPS IF MODEL RELIES ON DISTANCES, LESS CRITICAL FOR RANDOMFOREST BUT GOOD PRACTICE).\n",
        "# OneHotEncoder() → CONVERTS CATEGORIES TO ONE-HOT ENCODING SO THE MODEL CAN USE THEM NUMERICALLY.\n",
        "# CREATES TWO SMALL PIPELINES:\n",
        "# ONE FOR NUMERIC COLUMNS (NUMERIC_TRANSFORMER)\n",
        "# ONE FOR CATEGORICAL COLUMNS (CATEGORICAL_TRANSFORMER)\n",
        "# BUT AT THIS POINT, THEY ARE NOT APPLIED TO THE DATAFRAME YET.\n",
        "\n",
        "numeric_transformer = Pipeline([(\"imputer\", SimpleImputer(strategy=\"median\")),\n",
        "                                (\"power\", PowerTransformer()),\n",
        "                                (\"scaler\", StandardScaler())])\n",
        "\n",
        "categorical_transformer = Pipeline([(\"imputer\", SimpleImputer(strategy=\"most_frequent\")),\n",
        "                                    (\"onehot\", OneHotEncoder(handle_unknown=\"ignore\", sparse_output=False))])"
      ],
      "metadata": {
        "id": "opIRv3j_RkQ8"
      },
      "execution_count": 37,
      "outputs": []
    },
    {
      "cell_type": "code",
      "source": [
        "# COLUMNTRANSFORMER ACTUALLY APPLIES THE NUMERIC AND CATEGORICAL PIPELINES TO THE CORRECT COLUMNS.\n",
        "# \"num\": THIS IS JUST A LABEL FOR THIS STEP INSIDE THE COLUMNTRANSFORMER.\n",
        "# numeric_transformer: IT DEFINES WHAT TO DO WITH NUMERIC DATA\n",
        "# num_cols: THIS IS A LIST OF COLUMN NAMES IN THE DATASET THAT ARE NUMERIC.\n",
        "\n",
        "preprocessor = ColumnTransformer([\n",
        "    (\"num\", numeric_transformer, num_cols),\n",
        "    (\"cat\", categorical_transformer, cat_cols)\n",
        "])"
      ],
      "metadata": {
        "id": "JICThDWuRvvF"
      },
      "execution_count": 38,
      "outputs": []
    },
    {
      "cell_type": "code",
      "source": [
        "model = Pipeline([(\"preproc\", preprocessor),\n",
        "                  (\"rf\", RandomForestRegressor(random_state=42, n_jobs=-1))])"
      ],
      "metadata": {
        "id": "ACHte1OuRv1_"
      },
      "execution_count": 10,
      "outputs": []
    },
    {
      "cell_type": "code",
      "source": [
        "model.fit(X_train, y_train)\n",
        "preds = model.predict(X_test)\n",
        "print(\"MAE:\", mean_absolute_error(y_test, preds))\n",
        "print(\"RMSE:\", mean_squared_error(y_test, preds))\n",
        "print(\"R²:\", r2_score(y_test, preds))"
      ],
      "metadata": {
        "colab": {
          "base_uri": "https://localhost:8080/"
        },
        "id": "wofIYksrRwBc",
        "outputId": "e52d6ac4-9551-4a4e-d8bf-9a0c7151088e"
      },
      "execution_count": 12,
      "outputs": [
        {
          "output_type": "stream",
          "name": "stdout",
          "text": [
            "MAE: 0.3791866476365646\n",
            "RMSE: 2.811996831610028\n",
            "R²: 0.9999999285494083\n"
          ]
        }
      ]
    }
  ]
}
