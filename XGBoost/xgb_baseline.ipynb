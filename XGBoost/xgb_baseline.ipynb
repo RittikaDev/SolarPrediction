{
  "nbformat": 4,
  "nbformat_minor": 0,
  "metadata": {
    "colab": {
      "provenance": []
    },
    "kernelspec": {
      "name": "python3",
      "display_name": "Python 3"
    },
    "language_info": {
      "name": "python"
    }
  },
  "cells": [
    {
      "cell_type": "code",
      "execution_count": null,
      "metadata": {
        "id": "Gmb3x2ofb3Vo"
      },
      "outputs": [],
      "source": [
        "import pandas as pd\n",
        "import numpy as np\n",
        "from sklearn.model_selection import train_test_split\n",
        "from sklearn.pipeline import Pipeline\n",
        "from sklearn.compose import ColumnTransformer\n",
        "from sklearn.preprocessing import StandardScaler, PowerTransformer, OneHotEncoder\n",
        "from sklearn.impute import SimpleImputer\n",
        "from sklearn.metrics import mean_absolute_error, mean_squared_error, r2_score\n",
        "import xgboost as xgb"
      ]
    },
    {
      "cell_type": "code",
      "source": [
        "\n",
        "# ----------------- Load Data -----------------\n",
        "df = pd.read_excel(\"Solardata_final_1.xlsx\")\n",
        "df[\"Date and Time\"] = pd.to_datetime(df[\"Date and Time\"])\n",
        "df[\"hour\"] = df[\"Date and Time\"].dt.hour\n",
        "df[\"dayofweek\"] = df[\"Date and Time\"].dt.dayofweek\n",
        "df[\"month\"] = df[\"Date and Time\"].dt.month"
      ],
      "metadata": {
        "id": "B9cqSaKab6pL"
      },
      "execution_count": 3,
      "outputs": []
    },
    {
      "cell_type": "code",
      "source": [
        "target = \"Output Power (kW)\"\n",
        "X = df.drop(columns=[\"SL No.\", \"Date and Time\", target])\n",
        "y = df[target]\n",
        "\n",
        "X_train, X_test, y_train, y_test = train_test_split(X, y, test_size=0.2, random_state=42)"
      ],
      "metadata": {
        "id": "IosoLVBBb9FK"
      },
      "execution_count": 4,
      "outputs": []
    },
    {
      "cell_type": "code",
      "source": [
        "# ----------------- Preprocessing -----------------\n",
        "num_cols = X.select_dtypes(include=[\"number\"]).columns\n",
        "cat_cols = X.select_dtypes(include=[\"object\", \"category\"]).columns"
      ],
      "metadata": {
        "id": "UlKYJ7zkcmKD"
      },
      "execution_count": 5,
      "outputs": []
    },
    {
      "cell_type": "code",
      "source": [
        "numeric_transformer = Pipeline([\n",
        "    (\"imputer\", SimpleImputer(strategy=\"median\")),\n",
        "    (\"power\", PowerTransformer()),\n",
        "    (\"scaler\", StandardScaler())\n",
        "])\n",
        "\n",
        "categorical_transformer = Pipeline([\n",
        "    (\"imputer\", SimpleImputer(strategy=\"most_frequent\")),\n",
        "    (\"onehot\", OneHotEncoder(handle_unknown=\"ignore\", sparse_output=False))\n",
        "])\n",
        "\n",
        "preprocessor = ColumnTransformer([\n",
        "    (\"num\", numeric_transformer, num_cols),\n",
        "    (\"cat\", categorical_transformer, cat_cols)\n",
        "])"
      ],
      "metadata": {
        "id": "3FuL3ZjUcply"
      },
      "execution_count": 7,
      "outputs": []
    },
    {
      "cell_type": "code",
      "source": [
        "# ----------------- Model -----------------\n",
        "xgb_pipeline = Pipeline([\n",
        "    (\"preproc\", preprocessor),\n",
        "    (\"xgb\", xgb.XGBRegressor(random_state=42, n_jobs=-1, verbosity=0))\n",
        "])\n",
        "\n",
        "xgb_pipeline.fit(X_train, y_train)\n",
        "preds = xgb_pipeline.predict(X_test)"
      ],
      "metadata": {
        "id": "iEH8DwppcsOL"
      },
      "execution_count": 8,
      "outputs": []
    },
    {
      "cell_type": "code",
      "source": [
        "print(\"MAE:\", mean_absolute_error(y_test, preds))\n",
        "print(\"RMSE:\", mean_squared_error(y_test, preds))\n",
        "print(\"R²:\", r2_score(y_test, preds))"
      ],
      "metadata": {
        "colab": {
          "base_uri": "https://localhost:8080/"
        },
        "id": "y3ONuDX4cv7a",
        "outputId": "082c81e7-c422-4798-af38-9a56927562e2"
      },
      "execution_count": 10,
      "outputs": [
        {
          "output_type": "stream",
          "name": "stdout",
          "text": [
            "MAE: 11.280904998513526\n",
            "RMSE: 406.13922358351954\n",
            "R²: 0.9999896803269812\n"
          ]
        }
      ]
    }
  ]
}