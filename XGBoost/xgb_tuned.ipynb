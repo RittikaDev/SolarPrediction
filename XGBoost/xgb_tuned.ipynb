{
  "nbformat": 4,
  "nbformat_minor": 0,
  "metadata": {
    "colab": {
      "provenance": []
    },
    "kernelspec": {
      "name": "python3",
      "display_name": "Python 3"
    },
    "language_info": {
      "name": "python"
    }
  },
  "cells": [
    {
      "cell_type": "code",
      "execution_count": 2,
      "metadata": {
        "id": "8m8LC78s0XlM"
      },
      "outputs": [],
      "source": [
        "import pandas as pd\n",
        "import numpy as np\n",
        "\n",
        "from sklearn.model_selection import train_test_split, RandomizedSearchCV\n",
        "from sklearn.pipeline import Pipeline\n",
        "from sklearn.compose import ColumnTransformer\n",
        "from sklearn.preprocessing import StandardScaler, PowerTransformer, OneHotEncoder\n",
        "from sklearn.impute import SimpleImputer\n",
        "from sklearn.metrics import mean_absolute_error, mean_squared_error, r2_score\n",
        "import xgboost as xgb"
      ]
    },
    {
      "cell_type": "code",
      "source": [
        "# ----------------- Load Data -----------------\n",
        "df = pd.read_excel(\"Solardata_final_1.xlsx\")\n",
        "df[\"Date and Time\"] = pd.to_datetime(df[\"Date and Time\"])\n",
        "df[\"hour\"] = df[\"Date and Time\"].dt.hour\n",
        "df[\"dayofweek\"] = df[\"Date and Time\"].dt.dayofweek\n",
        "df[\"month\"] = df[\"Date and Time\"].dt.month"
      ],
      "metadata": {
        "id": "IVTuURbJ0asG"
      },
      "execution_count": 4,
      "outputs": []
    },
    {
      "cell_type": "code",
      "source": [
        "target = \"Output Power (kW)\"\n",
        "X = df.drop(columns=[\"SL No.\", \"Date and Time\", target])\n",
        "y = df[target]\n",
        "\n",
        "X_train, X_test, y_train, y_test = train_test_split(X, y, test_size=0.2, random_state=42)"
      ],
      "metadata": {
        "id": "pqePNeta0heW"
      },
      "execution_count": 5,
      "outputs": []
    },
    {
      "cell_type": "code",
      "source": [
        "# ----------------- Preprocessing -----------------\n",
        "num_cols = X.select_dtypes(include=[\"number\"]).columns\n",
        "cat_cols = X.select_dtypes(include=[\"object\", \"category\"]).columns\n",
        "\n",
        "numeric_transformer = Pipeline([\n",
        "    (\"imputer\", SimpleImputer(strategy=\"median\")),\n",
        "    (\"power\", PowerTransformer()),\n",
        "    (\"scaler\", StandardScaler())\n",
        "])\n",
        "\n",
        "categorical_transformer = Pipeline([\n",
        "    (\"imputer\", SimpleImputer(strategy=\"most_frequent\")),\n",
        "    (\"onehot\", OneHotEncoder(handle_unknown=\"ignore\", sparse_output=False))\n",
        "])\n",
        "\n",
        "preprocessor = ColumnTransformer([\n",
        "    (\"num\", numeric_transformer, num_cols),\n",
        "    (\"cat\", categorical_transformer, cat_cols)\n",
        "])"
      ],
      "metadata": {
        "id": "ac2A6isg0qge"
      },
      "execution_count": 7,
      "outputs": []
    },
    {
      "cell_type": "code",
      "source": [
        "# ----------------- Model -----------------\n",
        "xgb_pipeline = Pipeline([\n",
        "    (\"preproc\", preprocessor),\n",
        "    (\"xgb\", xgb.XGBRegressor(random_state=42, n_jobs=-1, verbosity=0))\n",
        "])"
      ],
      "metadata": {
        "id": "xSG29EJO0wyO"
      },
      "execution_count": 8,
      "outputs": []
    },
    {
      "cell_type": "code",
      "source": [
        "# ----------------- Hyperparameter Tuning -----------------\n",
        "\n",
        "# \"xgb__n_estimators\" →     NUMBER OF TREES (BOOSTING ROUNDS).\n",
        "# \"xgb__max_depth\" →        MAXIMUM DEPTH OF TREES (CONTROLS COMPLEXITY).\n",
        "# \"xgb__learning_rate\" →    HOW MUCH EACH TREE CONTRIBUTES (LOWER = SLOWER BUT MORE ACCURATE).\n",
        "# \"xgb__subsample\" →        FRACTION OF TRAINING SAMPLES USED PER TREE (LIKE BAGGING).\n",
        "# \"xgb__colsample_bytree\" → FRACTION OF FEATURES USED PER TREE.\n",
        "\n",
        "\n",
        "param_dist = {\n",
        "    \"xgb__n_estimators\": [100, 200, 400],\n",
        "    \"xgb__max_depth\": [3, 5, 7, 9],\n",
        "    \"xgb__learning_rate\": [0.01, 0.05, 0.1],\n",
        "    \"xgb__subsample\": [0.7, 0.8, 1.0],\n",
        "    \"xgb__colsample_bytree\": [0.7, 0.8, 1.0]\n",
        "}\n",
        "\n",
        "search = RandomizedSearchCV(\n",
        "    xgb_pipeline,       # PIPELINE THAT CONTAINS PREPROCESSING + XGBOOST MODEL.\n",
        "    param_distributions=param_dist, n_iter=15, cv=3, scoring=\"neg_mean_absolute_error\",\n",
        "    random_state=42,    # ENSURES REPRODUCIBILITY. SETTING  random_state=42 (OR ANY NUMBER) MAKES THE PROCESS DETERMINISTIC AND REPRODUCIBLE.\n",
        "    n_jobs=-1,          # USE ALL CPU CORES FOR SPEED.\n",
        "    verbose=1           # PRINTS PROGRESS INFO. verbose=0 : NO OUTPUT. verbose=1 : PRINTS BASIC PROGRESS INFO (E.G., “FITTING 3 FOLDS FOR EACH OF 15 CANDIDATES…”). HIGHER VALUES (LIKE 2 OR 3) : MORE DETAILED LOGGING.\n",
        ")\n",
        "\n",
        "search.fit(X_train, y_train) # RUNS THE HYPERPARAMETER SEARCH ON YOUR TRAINING DATA.\n",
        "\n",
        "best_xgb = search.best_estimator_\n",
        "preds = best_xgb.predict(X_test)"
      ],
      "metadata": {
        "colab": {
          "base_uri": "https://localhost:8080/"
        },
        "id": "DLvRyTYH0yjF",
        "outputId": "6401f26b-215d-4329-b02e-d438472d17e4"
      },
      "execution_count": 9,
      "outputs": [
        {
          "output_type": "stream",
          "name": "stdout",
          "text": [
            "Fitting 3 folds for each of 15 candidates, totalling 45 fits\n"
          ]
        }
      ]
    },
    {
      "cell_type": "code",
      "source": [
        "print(\"Best Hyperparameters:\", search.best_params_)\n",
        "print(\"MAE:\", mean_absolute_error(y_test, preds))\n",
        "print(\"RMSE:\", mean_squared_error(y_test, preds))\n",
        "print(\"R²:\", r2_score(y_test, preds))"
      ],
      "metadata": {
        "colab": {
          "base_uri": "https://localhost:8080/"
        },
        "id": "OhAeRdoV01UW",
        "outputId": "3e4789e1-79fd-49ed-f899-9f2996a8239d"
      },
      "execution_count": 10,
      "outputs": [
        {
          "output_type": "stream",
          "name": "stdout",
          "text": [
            "Best Hyperparameters: {'xgb__subsample': 1.0, 'xgb__n_estimators': 200, 'xgb__max_depth': 5, 'xgb__learning_rate': 0.05, 'xgb__colsample_bytree': 1.0}\n",
            "MAE: 9.77991716999412\n",
            "RMSE: 314.3452828322736\n",
            "R²: 0.999992012737639\n"
          ]
        }
      ]
    }
  ]
}