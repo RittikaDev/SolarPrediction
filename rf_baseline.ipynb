{
  "nbformat": 4,
  "nbformat_minor": 0,
  "metadata": {
    "colab": {
      "provenance": [],
      "mount_file_id": "16FWrEjhOzPW3ViI48m9nijw7Oz6cV7W0",
      "authorship_tag": "ABX9TyOOuvooXg0LKWeq1tGJ5g2J",
      "include_colab_link": true
    },
    "kernelspec": {
      "name": "python3",
      "display_name": "Python 3"
    },
    "language_info": {
      "name": "python"
    }
  },
  "cells": [
    {
      "cell_type": "markdown",
      "metadata": {
        "id": "view-in-github",
        "colab_type": "text"
      },
      "source": [
        "<a href=\"https://colab.research.google.com/github/RittikaDev/SolarPrediction/blob/main/rf_baseline.ipynb\" target=\"_parent\"><img src=\"https://colab.research.google.com/assets/colab-badge.svg\" alt=\"Open In Colab\"/></a>"
      ]
    },
    {
      "cell_type": "code",
      "execution_count": 2,
      "metadata": {
        "id": "V5mI3FfgP5M0"
      },
      "outputs": [],
      "source": [
        "import pandas as pd\n",
        "import numpy as np\n",
        "\n",
        "from sklearn.model_selection import train_test_split\n",
        "from sklearn.pipeline import Pipeline\n",
        "from sklearn.compose import ColumnTransformer\n",
        "from sklearn.preprocessing import StandardScaler, PowerTransformer, OneHotEncoder\n",
        "from sklearn.impute import SimpleImputer\n",
        "from sklearn.ensemble import RandomForestRegressor\n",
        "from sklearn.metrics import mean_absolute_error, mean_squared_error, r2_score"
      ]
    },
    {
      "cell_type": "code",
      "source": [
        "# ----------------- Load Data -----------------\n",
        "df = pd.read_excel(\"Solardata_final_1.xlsx\")\n",
        "df[\"Date and Time\"] = pd.to_datetime(df[\"Date and Time\"])\n",
        "df[\"hour\"] = df[\"Date and Time\"].dt.hour\n",
        "df[\"dayofweek\"] = df[\"Date and Time\"].dt.dayofweek\n",
        "df[\"month\"] = df[\"Date and Time\"].dt.month"
      ],
      "metadata": {
        "id": "nBxKVgmkRItV"
      },
      "execution_count": 3,
      "outputs": []
    },
    {
      "cell_type": "code",
      "source": [
        "target = \"Output Power (kW)\"\n",
        "X = df.drop(columns=[\"SL No.\", \"Date and Time\", target])              # ALL FEATURES EXCEPT IDENTIFIERS AND THE TARGET.\n",
        "y = df[target]                                                        # WHAT WE WANT TO PREDICT"
      ],
      "metadata": {
        "id": "nbcSkAbSRdXW"
      },
      "execution_count": 4,
      "outputs": []
    },
    {
      "cell_type": "code",
      "source": [
        "X_train, X_test, y_train, y_test = train_test_split(X, y, test_size=0.2, random_state=42)"
      ],
      "metadata": {
        "id": "LLImbokzRfll"
      },
      "execution_count": 5,
      "outputs": []
    },
    {
      "cell_type": "code",
      "source": [
        "num_cols = X.select_dtypes(include=[\"number\"]).columns                # NUMERIC FEATURES LIKE GHI, TEMPERATURE, WIND SPEED.\n",
        "cat_cols = X.select_dtypes(include=[\"object\", \"category\"]).columns    # CATEGORICAL FEATURES LIKE \"GRID SIDE OR OTHER FAULT\"."
      ],
      "metadata": {
        "id": "azO3_P7gRhpj"
      },
      "execution_count": 6,
      "outputs": []
    },
    {
      "cell_type": "code",
      "source": [
        "# SimpleImputer(strategy=\"median\") → FILLS MISSING NUMERIC VALUES WITH MEDIAN.\n",
        "# PowerTransformer() → MAKES DATA MORE GAUSSIAN-LIKE, HELPS RANDOMFOREST HANDLE SKEWED DISTRIBUTIONS.\n",
        "# StandardScaler() → SCALES FEATURES TO MEAN=0, STD=1 (HELPS IF MODEL RELIES ON DISTANCES, LESS CRITICAL FOR RANDOMFOREST BUT GOOD PRACTICE).\n",
        "# OneHotEncoder() → CONVERTS CATEGORIES TO ONE-HOT ENCODING SO THE MODEL CAN USE THEM NUMERICALLY.\n",
        "# CREATES TWO SMALL PIPELINES:\n",
        "# ONE FOR NUMERIC COLUMNS (NUMERIC_TRANSFORMER)\n",
        "# ONE FOR CATEGORICAL COLUMNS (CATEGORICAL_TRANSFORMER)\n",
        "# BUT AT THIS POINT, THEY ARE NOT APPLIED TO THE DATAFRAME YET.\n",
        "\n",
        "numeric_transformer = Pipeline([(\"imputer\", SimpleImputer(strategy=\"median\")),\n",
        "                                (\"power\", PowerTransformer()),\n",
        "                                (\"scaler\", StandardScaler())])\n",
        "\n",
        "categorical_transformer = Pipeline([(\"imputer\", SimpleImputer(strategy=\"most_frequent\")),\n",
        "                                    (\"onehot\", OneHotEncoder(handle_unknown=\"ignore\", sparse_output=False))])"
      ],
      "metadata": {
        "id": "opIRv3j_RkQ8"
      },
      "execution_count": 37,
      "outputs": []
    },
    {
      "cell_type": "code",
      "source": [
        "# COLUMNTRANSFORMER ACTUALLY APPLIES THE NUMERIC AND CATEGORICAL PIPELINES TO THE CORRECT COLUMNS.\n",
        "# \"num\": THIS IS JUST A LABEL FOR THIS STEP INSIDE THE COLUMNTRANSFORMER.\n",
        "# numeric_transformer: IT DEFINES WHAT TO DO WITH NUMERIC DATA\n",
        "# num_cols: THIS IS A LIST OF COLUMN NAMES IN THE DATASET THAT ARE NUMERIC.\n",
        "\n",
        "preprocessor = ColumnTransformer([\n",
        "    (\"num\", numeric_transformer, num_cols),\n",
        "    (\"cat\", categorical_transformer, cat_cols)\n",
        "])"
      ],
      "metadata": {
        "id": "JICThDWuRvvF"
      },
      "execution_count": 38,
      "outputs": []
    },
    {
      "cell_type": "code",
      "source": [
        "model = Pipeline([(\"preproc\", preprocessor),\n",
        "                  (\"rf\", RandomForestRegressor(random_state=42, n_jobs=-1))])"
      ],
      "metadata": {
        "id": "ACHte1OuRv1_"
      },
      "execution_count": 10,
      "outputs": []
    },
    {
      "cell_type": "code",
      "source": [
        "model.fit(X_train, y_train)\n",
        "preds = model.predict(X_test)\n",
        "print(\"MAE:\", mean_absolute_error(y_test, preds))\n",
        "print(\"RMSE:\", mean_squared_error(y_test, preds))\n",
        "print(\"R²:\", r2_score(y_test, preds))"
      ],
      "metadata": {
        "colab": {
          "base_uri": "https://localhost:8080/"
        },
        "id": "wofIYksrRwBc",
        "outputId": "e52d6ac4-9551-4a4e-d8bf-9a0c7151088e"
      },
      "execution_count": 12,
      "outputs": [
        {
          "output_type": "stream",
          "name": "stdout",
          "text": [
            "MAE: 0.3791866476365646\n",
            "RMSE: 2.811996831610028\n",
            "R²: 0.9999999285494083\n"
          ]
        }
      ]
    },
    {
      "cell_type": "code",
      "source": [
        "!git add rf_baseline.ipynb\n",
        "!git commit -m \"doc: add comments for better clarity\"\n",
        "!git push origin main"
      ],
      "metadata": {
        "colab": {
          "base_uri": "https://localhost:8080/"
        },
        "id": "4Fy5ncYXleZT",
        "outputId": "d33951e2-b5ae-40dc-a0a5-369d627bedda"
      },
      "execution_count": 53,
      "outputs": [
        {
          "output_type": "stream",
          "name": "stdout",
          "text": [
            "On branch main\n",
            "Your branch is up to date with 'origin/main'.\n",
            "\n",
            "nothing to commit, working tree clean\n",
            "Everything up-to-date\n"
          ]
        }
      ]
    },
    {
      "cell_type": "code",
      "source": [
        "!pwd\n",
        "!ls -l"
      ],
      "metadata": {
        "colab": {
          "base_uri": "https://localhost:8080/"
        },
        "id": "2B63VKUAzYRN",
        "outputId": "4800de82-4c59-4c08-9226-606437307a2c"
      },
      "execution_count": 56,
      "outputs": [
        {
          "output_type": "stream",
          "name": "stdout",
          "text": [
            "/content/SolarPrediction\n",
            "total 8\n",
            "drwxr-xr-x 2 root root 4096 Sep 20 04:14 RandomForest\n",
            "-rw-r--r-- 1 root root  730 Sep 20 05:32 README.md\n"
          ]
        }
      ]
    },
    {
      "cell_type": "code",
      "source": [
        "%cd /content/SolarPrediction\n"
      ],
      "metadata": {
        "colab": {
          "base_uri": "https://localhost:8080/"
        },
        "id": "suq-FdwozoeN",
        "outputId": "86aad5ce-4f69-42f8-c7fb-4ac200621780"
      },
      "execution_count": 57,
      "outputs": [
        {
          "output_type": "stream",
          "name": "stdout",
          "text": [
            "/content/SolarPrediction\n"
          ]
        }
      ]
    },
    {
      "cell_type": "code",
      "source": [],
      "metadata": {
        "colab": {
          "base_uri": "https://localhost:8080/"
        },
        "id": "HoutgtdB14ym",
        "outputId": "ac5c7deb-3c00-413a-bec2-cff9a92e24e1"
      },
      "execution_count": 62,
      "outputs": [
        {
          "output_type": "stream",
          "name": "stdout",
          "text": [
            "On branch main\n",
            "Your branch is up to date with 'origin/main'.\n",
            "\n",
            "nothing to commit, working tree clean\n",
            "Everything up-to-date\n"
          ]
        }
      ]
    },
    {
      "cell_type": "code",
      "source": [
        "!git add .\n",
        "!git commit -m \"doc: add comments for better clarity\"\n",
        "!git push origin main"
      ],
      "metadata": {
        "colab": {
          "base_uri": "https://localhost:8080/"
        },
        "id": "Q4rakq571TyW",
        "outputId": "ec1fa86e-8ed3-42bf-8f9b-3e7530798344"
      },
      "execution_count": 61,
      "outputs": [
        {
          "output_type": "stream",
          "name": "stdout",
          "text": [
            "On branch main\n",
            "Your branch is up to date with 'origin/main'.\n",
            "\n",
            "nothing to commit, working tree clean\n",
            "Everything up-to-date\n"
          ]
        }
      ]
    }
  ]
}